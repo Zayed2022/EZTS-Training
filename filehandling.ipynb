{
 "cells": [
  {
   "cell_type": "markdown",
   "id": "107bc8de-b743-4324-98e9-2a2778b48fa3",
   "metadata": {},
   "source": [
    "# Python File Handling"
   ]
  },
  {
   "cell_type": "markdown",
   "id": "4752b917-fe81-4e96-b348-4cce5ea7f818",
   "metadata": {},
   "source": [
    "## Syntax"
   ]
  },
  {
   "cell_type": "markdown",
   "id": "f8515624-b176-4909-95df-1e14e74ec22e",
   "metadata": {},
   "source": [
    "### f = open(filename, mode)"
   ]
  },
  {
   "cell_type": "markdown",
   "id": "f0333c4c-52e4-4c92-9003-fc3a150b43d3",
   "metadata": {},
   "source": [
    "### Where the following mode is supported:\n",
    "### r: open an existing file for a read operation.\n",
    "###  w: open an existing file for a write operation. If the file already contains some data, then \n",
    "### it will be overridden but if the file is not present then it creates the file as well.\n",
    "### a:  open an existing file for append operation. It won’t override existing data.\n",
    "### r+:  To read and write data into the file. The previous data in the file will be overridden.\n",
    "### w+: To write and read data. It will override existing data.\n",
    "### a+: To append and read data from the file. It won’t override existing data."
   ]
  },
  {
   "cell_type": "code",
   "execution_count": 8,
   "id": "5f457473-8b6b-49da-ae58-476400d1c12c",
   "metadata": {},
   "outputs": [
    {
     "name": "stdout",
     "output_type": "stream",
     "text": [
      "hello batman\n",
      "hello batman2\n",
      "hello batman2hello batman3\n"
     ]
    }
   ],
   "source": [
    "import os\n",
    "with open('zay.txt','w') as f:\n",
    "    f.write(\"hello batman\")\n",
    "    f.close()\n",
    "with open('zay.txt','r') as f:\n",
    "    print(f.read())\n",
    "    f.close()\n",
    "#prevoius data is over written\n",
    "with open('zay.txt','w') as f:\n",
    "    f.write(\"hello batman2\")\n",
    "    f.close()\n",
    "with open('zay.txt','r') as f:\n",
    "    print(f.read())\n",
    "    f.close()\n",
    "#we append to existing data\n",
    "with open('zay.txt','a') as f:\n",
    "    f.write(\"hello batman3\")\n",
    "    f.close()\n",
    "with open('zay.txt','r') as f:\n",
    "    print(f.read())\n",
    "    f.close()"
   ]
  },
  {
   "cell_type": "code",
   "execution_count": null,
   "id": "68bd661e-dac0-4f9d-b680-a4dc7a7d123a",
   "metadata": {},
   "outputs": [],
   "source": [
    "with open('zay.txt','w') as f:\n",
    "    f.write(\"hello batman2\")\n",
    "    f.close()"
   ]
  },
  {
   "cell_type": "code",
   "execution_count": 13,
   "id": "039b1f46-3f5a-4aed-8415-8733dd922582",
   "metadata": {},
   "outputs": [
    {
     "name": "stdout",
     "output_type": "stream",
     "text": [
      "0\n",
      "14\n",
      "b'ello batman3'\n"
     ]
    }
   ],
   "source": [
    "with open('zay.txt','r+b') as f:\n",
    "    print(f.tell())\n",
    "    f.seek(-12,2)\n",
    "    print(f.tell())\n",
    "    print(f.read())\n",
    "    f.close()\n"
   ]
  },
  {
   "cell_type": "code",
   "execution_count": null,
   "id": "c25696e3-d730-4bab-b854-315b78f3a1f2",
   "metadata": {},
   "outputs": [],
   "source": []
  }
 ],
 "metadata": {
  "kernelspec": {
   "display_name": "Python 3 (ipykernel)",
   "language": "python",
   "name": "python3"
  },
  "language_info": {
   "codemirror_mode": {
    "name": "ipython",
    "version": 3
   },
   "file_extension": ".py",
   "mimetype": "text/x-python",
   "name": "python",
   "nbconvert_exporter": "python",
   "pygments_lexer": "ipython3",
   "version": "3.11.4"
  }
 },
 "nbformat": 4,
 "nbformat_minor": 5
}
