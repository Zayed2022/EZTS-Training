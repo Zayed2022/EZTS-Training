{
 "cells": [
  {
   "cell_type": "markdown",
   "id": "f9e6bf7e-b31a-44e0-9c79-0f78225c03ce",
   "metadata": {},
   "source": [
    "# COUNT SORT"
   ]
  },
  {
   "cell_type": "code",
   "execution_count": 2,
   "id": "9d52db75-ae2d-4372-b276-bd6e754a9864",
   "metadata": {},
   "outputs": [
    {
     "name": "stdout",
     "output_type": "stream",
     "text": [
      "1 2 2 2 3 3 4 4 4 4 5 5 6 6 7 8 8 9 "
     ]
    }
   ],
   "source": [
    "l=[2,4,6,2,3,2,4,5,8,9,7,6,4,3,8,4,1,5]\n",
    "k=[0]*10\n",
    "for i in range(len(l)):\n",
    "        k[l[i]-1]+=1\n",
    "for z in range(len(k)):\n",
    "    for j in range(k[z]):\n",
    "        print(z+1,end=' ')\n",
    "        "
   ]
  },
  {
   "cell_type": "markdown",
   "id": "534e01c5-a975-4942-832d-546d1dff742c",
   "metadata": {},
   "source": [
    "# Magic Square"
   ]
  },
  {
   "cell_type": "code",
   "execution_count": 28,
   "id": "9ee02d3e-a1d3-4bc4-8852-180336376060",
   "metadata": {},
   "outputs": [
    {
     "name": "stdout",
     "output_type": "stream",
     "text": [
      "True\n"
     ]
    }
   ],
   "source": [
    "ms=[[4,3,8,],[9,5,1],[2,7,6]]\n",
    "s=sum(ms[0])\n",
    "ns=0\n",
    "\n",
    "for i in range(len(ms)):\n",
    "    ns+=ms[i][0]\n",
    "if s==ns:\n",
    "    for i in range(1,len(ms)):\n",
    "        f=True\n",
    "        if sum(ms[i])!=s:\n",
    "            f=False\n",
    "            break\n",
    "        cs=0\n",
    "        for j in range(len(ms)):\n",
    "            cs+=ms[j][i]\n",
    "        if cs!=s:\n",
    "            f=False\n",
    "            break\n",
    "    dl=0\n",
    "    dl2=0\n",
    "    for i in range(len(ms)):\n",
    "        dl+=ms[i][i]\n",
    "    for i in range(len(ms)):\n",
    "        dl2+=ms[i][len(ms)-1-i]\n",
    "    if dl!=s and dl2!=s:\n",
    "            f=False\n",
    "    if f:\n",
    "        print(True)\n",
    "    else:\n",
    "        print(False)\n",
    "else:\n",
    "    print(False)\n"
   ]
  },
  {
   "cell_type": "markdown",
   "id": "c9ba7baa-a12a-439c-a53b-bc4115a36034",
   "metadata": {},
   "source": [
    " # Aggresive Cows"
   ]
  },
  {
   "cell_type": "code",
   "execution_count": 1,
   "id": "3482ec71-f4b8-4d2b-8318-c33c19d9b784",
   "metadata": {},
   "outputs": [
    {
     "name": "stdout",
     "output_type": "stream",
     "text": [
      "The maximum possible minimum distance is: 3\n"
     ]
    }
   ],
   "source": [
    "def canWePlace(stalls, dist, cows):\n",
    "    n = len(stalls)  # size of array\n",
    "    cntCows = 1  # no. of cows placed\n",
    "    last = stalls[0]  # position of last placed cow\n",
    "    for i in range(1, n):\n",
    "        if stalls[i] - last >= dist:\n",
    "            cntCows += 1  # place next cow\n",
    "            last = stalls[i]  # update the last location\n",
    "        if cntCows >= cows:\n",
    "            return True\n",
    "    return False\n",
    "\n",
    "def aggressiveCows(stalls, k):\n",
    "    n = len(stalls)  # size of array\n",
    "    stalls.sort()  # sort the stalls[]\n",
    "    limit = stalls[n - 1] - stalls[0]\n",
    "    for i in range(1, limit + 1):\n",
    "        if not canWePlace(stalls, i, k):\n",
    "            return i - 1\n",
    "    return limit\n",
    "\n",
    "stalls = [0, 3, 4, 7, 10, 9]\n",
    "k = 4\n",
    "ans = aggressiveCows(stalls, k)\n",
    "print(\"The maximum possible minimum distance is:\", ans)\n"
   ]
  },
  {
   "cell_type": "code",
   "execution_count": null,
   "id": "6362120a-3756-4f9e-bd3f-ca2260c970ce",
   "metadata": {},
   "outputs": [],
   "source": []
  }
 ],
 "metadata": {
  "kernelspec": {
   "display_name": "Python 3 (ipykernel)",
   "language": "python",
   "name": "python3"
  },
  "language_info": {
   "codemirror_mode": {
    "name": "ipython",
    "version": 3
   },
   "file_extension": ".py",
   "mimetype": "text/x-python",
   "name": "python",
   "nbconvert_exporter": "python",
   "pygments_lexer": "ipython3",
   "version": "3.11.4"
  }
 },
 "nbformat": 4,
 "nbformat_minor": 5
}
