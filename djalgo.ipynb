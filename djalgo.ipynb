{
 "cells": [
  {
   "cell_type": "code",
   "execution_count": 1,
   "id": "5a470997-47da-40f4-bb33-ec25522d6b65",
   "metadata": {},
   "outputs": [
    {
     "name": "stdout",
     "output_type": "stream",
     "text": [
      "Vertex \t Distance from Source\n",
      "0 \t 0\n",
      "1 \t 1\n",
      "2 \t 2\n",
      "3 \t 3\n"
     ]
    }
   ],
   "source": [
    "def dijkstra_algo(graph, src):\n",
    "    n = len(graph)\n",
    "    dist = [float('inf')] * n\n",
    "    visited = [False] * n\n",
    "    dist[src] = 0\n",
    "    for _ in range(n):\n",
    "        u = min_distance(dist, visited)\n",
    "        visited[u] = True\n",
    "        for v in range(n):\n",
    "            if (not visited[v] and graph[u][v] and dist[u] != float('inf') and dist[u] + graph[u][v] < dist[v]):\n",
    "                dist[v] = dist[u] + graph[u][v]\n",
    "    print_solution(dist, src)\n",
    "\n",
    "def min_distance(dist, visited):\n",
    "    min_dist = float('inf')\n",
    "    min_index = -1\n",
    "    for v in range(len(dist)):\n",
    "        if not visited[v] and dist[v] <min_dist:\n",
    "            min_dist=dist[v]\n",
    "            min_index=v\n",
    "    return min_index\n",
    "\n",
    "def print_solution(dist, src):\n",
    "    print(\"Vertex \\t Distance from Source\")\n",
    "    for i in range(len(dist)):\n",
    "        print(f\"{i} \\t {dist[i]}\")\n",
    "graph = [\n",
    "    [0, 1, 0, 0],\n",
    "    [1, 0, 1, 0],\n",
    "    [0, 1, 0, 1],\n",
    "    [0, 0, 1, 0]\n",
    "]\n",
    "source_vertex = 0\n",
    "dijkstra_algo(graph, source_vertex)\n"
   ]
  },
  {
   "cell_type": "markdown",
   "id": "148e4d50-44e7-45aa-9001-2e63e28e8251",
   "metadata": {},
   "source": [
    "## traveling salesman"
   ]
  },
  {
   "cell_type": "code",
   "execution_count": 7,
   "id": "9f347efd-3967-4802-9a74-e9b6b0c9d021",
   "metadata": {},
   "outputs": [
    {
     "name": "stdout",
     "output_type": "stream",
     "text": [
      "Minimum cost= 19\n"
     ]
    }
   ],
   "source": [
    "import sys\n",
    "def cost(curr, visited, g, dp):\n",
    "    n = len(g)\n",
    "    if len(visited) == n:\n",
    "        return g[curr][0]\n",
    "    visit = tuple(visited)\n",
    "    if (curr, visit) in dp:\n",
    "        return dp[(curr, visit)]\n",
    "    min_cost = sys.maxsize\n",
    "    for i in range(n):\n",
    "        if i not in visited:\n",
    "            nwv = visited + [i]\n",
    "            nc = g[curr][i] + cost(i, nwv, g, dp)\n",
    "            min_cost = min(min_cost, nc)\n",
    "    dp[(curr, visit)] = min_cost\n",
    "    return min_cost\n",
    "\n",
    "graph = [\n",
    "    [0, 4, 7, 5, 5],\n",
    "    [4, 0, 2, 3, 8],\n",
    "    [7, 2, 0, 3, 4],\n",
    "    [5, 3, 3, 0, 6],\n",
    "    [5, 8, 4, 6, 0]\n",
    "]\n",
    "dp = {}\n",
    "print(\"Minimum cost=\", cost(0, [0], graph, dp))\n"
   ]
  },
  {
   "cell_type": "code",
   "execution_count": 4,
   "id": "d33d8eda-fb7d-4ecc-92db-a4deedff1d49",
   "metadata": {},
   "outputs": [
    {
     "name": "stdout",
     "output_type": "stream",
     "text": [
      "7\n"
     ]
    }
   ],
   "source": [
    "s='ABABABCANFKABABCNKABABCACNDA'\n",
    "p='AB'\n"
   ]
  },
  {
   "cell_type": "code",
   "execution_count": null,
   "id": "1ad58874-01a9-4595-bce1-b7936cff3a5f",
   "metadata": {},
   "outputs": [],
   "source": []
  }
 ],
 "metadata": {
  "kernelspec": {
   "display_name": "Python 3 (ipykernel)",
   "language": "python",
   "name": "python3"
  },
  "language_info": {
   "codemirror_mode": {
    "name": "ipython",
    "version": 3
   },
   "file_extension": ".py",
   "mimetype": "text/x-python",
   "name": "python",
   "nbconvert_exporter": "python",
   "pygments_lexer": "ipython3",
   "version": "3.11.4"
  }
 },
 "nbformat": 4,
 "nbformat_minor": 5
}
