{
 "cells": [
  {
   "cell_type": "markdown",
   "id": "a84a77e5-952c-4a2e-a75d-42de62745895",
   "metadata": {},
   "source": [
    "### CHECK IS PRIME"
   ]
  },
  {
   "cell_type": "code",
   "execution_count": 33,
   "id": "456ef6c2-1451-4a95-870e-0f57d636a1f4",
   "metadata": {},
   "outputs": [
    {
     "name": "stdin",
     "output_type": "stream",
     "text": [
      "enter the num: 23333333\n"
     ]
    },
    {
     "name": "stdout",
     "output_type": "stream",
     "text": [
      "False\n",
      "0.0\n"
     ]
    }
   ],
   "source": [
    "import math\n",
    "m=int(input(\"enter the num:\"))\n",
    "def isprime(m):\n",
    "    if m <= 1:\n",
    "        return False\n",
    "    if m == 2:\n",
    "        return True\n",
    "    if m % 2 == 0:\n",
    "        return False\n",
    "    for i in range(3, int(math.sqrt(m)) + 1, 2):\n",
    "        if m % i == 0:\n",
    "            return False\n",
    "    return True\n",
    "st=time.time()\n",
    "print(isprime(m))\n",
    "et=time.time()\n",
    "print(et-st)"
   ]
  },
  {
   "cell_type": "code",
   "execution_count": 25,
   "id": "f7603c20-b0b8-42fb-9b0d-5415b0e009ef",
   "metadata": {},
   "outputs": [
    {
     "name": "stdout",
     "output_type": "stream",
     "text": [
      "3 4 5 6 7 8 9 10 \n",
      "3 5 7 9 "
     ]
    }
   ],
   "source": [
    "for i in range(3, int(math.sqrt(100)) + 1):\n",
    "    print(i,end=' ')\n",
    "print()\n",
    "for i in range(3, int(math.sqrt(100)) + 1, 2):\n",
    "    print(i,end=' ')"
   ]
  },
  {
   "cell_type": "code",
   "execution_count": 34,
   "id": "e4695f17-6c93-4175-b7d7-ccafa88395f8",
   "metadata": {},
   "outputs": [
    {
     "name": "stdin",
     "output_type": "stream",
     "text": [
      "Enter the message:  23333333\n"
     ]
    },
    {
     "name": "stdout",
     "output_type": "stream",
     "text": [
      "23333333 is not a prime number\n",
      "1.9525315761566162\n"
     ]
    }
   ],
   "source": [
    "# import time\n",
    "# def is_prime(n):\n",
    "# #Sieve of Eratosthenes.\n",
    "#   if n <= 1:\n",
    "#     return False\n",
    "#   # Create a boolean list to mark prime numbers (initialized to True)\n",
    "#   is_prime_list = [True] * (n + 1)\n",
    "#   is_prime_list[0] = is_prime_list[1] = False  # 0 and 1 are not prime\n",
    "#   # Run the Sieve for numbers up to the square root of n\n",
    "#   for i in range(2, int(n**0.5) + 1):\n",
    "#     if is_prime_list[i]:\n",
    "#       # Mark multiples of i as composite\n",
    "#       for j in range(i * i, n + 1, i):\n",
    "#         is_prime_list[j] = False\n",
    "#   return is_prime_list[n]\n",
    "# number = int(input(\"Enter the message: \"))\n",
    "# st=time.time()\n",
    "# if is_prime(number):\n",
    "#     print(number, \"is a prime number\")\n",
    "# else:\n",
    "#     print(number, \"is not a prime number\")\n",
    "# et=time.time()\n",
    "# print(et-st)"
   ]
  },
  {
   "cell_type": "markdown",
   "id": "754d017c-b507-47b3-87b3-cc4b60a66ca2",
   "metadata": {},
   "source": [
    "### fibonacci"
   ]
  },
  {
   "cell_type": "code",
   "execution_count": 43,
   "id": "97a4db7f-d9ad-44d0-a1d1-b5a1997d45af",
   "metadata": {},
   "outputs": [
    {
     "name": "stdin",
     "output_type": "stream",
     "text": [
      "Enter the num: 23\n"
     ]
    },
    {
     "name": "stdout",
     "output_type": "stream",
     "text": [
      "0\n",
      "1\n",
      "1\n",
      "2\n",
      "3\n",
      "5\n",
      "8\n",
      "13\n",
      "21\n",
      "34\n",
      "55\n",
      "89\n",
      "144\n",
      "233\n",
      "377\n",
      "610\n",
      "987\n",
      "1597\n",
      "2584\n",
      "4181\n",
      "6765\n",
      "10946\n",
      "17711\n"
     ]
    }
   ],
   "source": [
    "n=int(input(\"Enter the num:\"))\n",
    "a,b=0,1\n",
    "c=a+b\n",
    "if n==1:\n",
    "      print(a)\n",
    "elif n==2:\n",
    "     print(a)\n",
    "     print(b) \n",
    "else:\n",
    "    print(a) \n",
    "    print(b)\n",
    "    for i in range(2,n):\n",
    "        print(c)\n",
    "        a=b\n",
    "        b=c\n",
    "        c=a+b\n",
    "      "
   ]
  },
  {
   "cell_type": "markdown",
   "id": "7b5eead4-08f9-4954-8c92-4469cbb54ab2",
   "metadata": {},
   "source": [
    "### palindrome"
   ]
  },
  {
   "cell_type": "code",
   "execution_count": 5,
   "id": "7680052c-bc93-4da9-9b06-529a79dffa2a",
   "metadata": {},
   "outputs": [
    {
     "name": "stdin",
     "output_type": "stream",
     "text": [
      "Enter a num:  78787\n"
     ]
    },
    {
     "name": "stdout",
     "output_type": "stream",
     "text": [
      "True\n"
     ]
    }
   ],
   "source": [
    "def palindrome(s):\n",
    "    return s[::-1] == s\n",
    "n = int(input(\"Enter a num: \"))\n",
    "print(palindrome(str(n)))"
   ]
  },
  {
   "cell_type": "markdown",
   "id": "d759fe0d-c040-4c5b-b042-77559780d9eb",
   "metadata": {},
   "source": [
    "# Problem Statement\n",
    "\n",
    "In the enchanted land of Numeria, Alice is on a quest to find the legendary Prime Key to unlock the ancient Vault of Secrets. The vault's guardian, an ancient sphinx, presents a multi-step puzzle that Alice must solve to obtain the Prime Key.\n",
    "\n",
    "The puzzle consists of multiple levels, each requiring Alice to solve a different challenge involving prime numbers. To progress through each level, Alice must perform the following tasks:\n",
    "\n",
    "### Level 1:\n",
    "Find the smallest prime number larger than a given integer \\( N \\).\n",
    "\n",
    "### Level 2:\n",
    "Calculate the sum of all prime numbers between \\( N \\) and the smallest prime number larger than \\( N \\).\n",
    "\n",
    "### Level 3:\n",
    "Determine if the product of the smallest prime number larger than \\( N \\) and the next immediate prime number is also a prime.\n",
    "\n",
    "To complete the puzzle and retrieve the Prime Key, Alice must solve these challenges in sequence for a given integer \\( N \\).\n",
    "\n",
    "Your task is to write a function that takes an integer \\( N \\) and returns a tuple containing the following:\n",
    "- The smallest prime number larger than \\( N \\) (Level 1 result).\n",
    "- The sum of all numbers between \\( N \\) and the smallest prime number larger than \\( N \\) (Level 2 result).\n",
    "- A boolean indicating whether the product of the smallest prime number larger than \\( N \\) and the next immediate prime number is prime (Level 3 result).\n",
    "\n",
    "Help Alice navigate through the levels, solve the puzzle, and obtain the Prime Key to unlock the Vault of Secrets.\n"
   ]
  },
  {
   "cell_type": "code",
   "execution_count": 18,
   "id": "8271b074-6502-41e8-b8e7-78312b16251d",
   "metadata": {},
   "outputs": [
    {
     "name": "stdout",
     "output_type": "stream",
     "text": [
      "(2, 0, False)\n"
     ]
    }
   ],
   "source": [
    "import math\n",
    "\n",
    "def is_prime(m):\n",
    "    \"\"\"Check if a number is prime.\"\"\"\n",
    "    if m <= 1:\n",
    "        return False\n",
    "    if m == 2:\n",
    "        return True\n",
    "    if m % 2 == 0:\n",
    "        return False\n",
    "    for i in range(3, int(math.sqrt(m)) + 1, 2):\n",
    "        if m % i == 0:\n",
    "            return False\n",
    "    return True\n",
    "\n",
    "def next_prime(n):\n",
    "    \"\"\"Find the smallest prime number larger than n.\"\"\"\n",
    "    i = n + 1\n",
    "    while True:\n",
    "        if is_prime(i):\n",
    "            return i\n",
    "        i += 1\n",
    "\n",
    "def sum_primes_between(n, next_prime_num):\n",
    "    \"\"\"Calculate the sum of all prime numbers between n and next_prime_num.\"\"\"\n",
    "    return sum(i for i in range(n + 1, next_prime_num) if is_prime(i))\n",
    "\n",
    "def product_is_prime(next_prime_num):\n",
    "    \"\"\"Check if the product of the smallest prime larger than n and the next immediate prime number is prime.\"\"\"\n",
    "    next_next_prime = next_prime(next_prime_num)\n",
    "    product = next_prime_num * next_next_prime\n",
    "    return is_prime(product)\n",
    "\n",
    "def ancient_vault(n):\n",
    "    \"\"\"Solve the multi-step puzzle to retrieve the Prime Key.\"\"\"\n",
    "    smallest_prime = next_prime(n)\n",
    "    prime_sum = sum_primes_between(n, smallest_prime)\n",
    "    is_product_prime = product_is_prime(smallest_prime)\n",
    "    return (smallest_prime, prime_sum, is_product_prime)\n",
    "\n",
    "# Example usage\n",
    "result = ancient_vault(1)\n",
    "print(result)\n"
   ]
  },
  {
   "cell_type": "markdown",
   "id": "218d3b3e-4f75-48f4-b471-8be665aac21f",
   "metadata": {},
   "source": [
    "### Max is planning to take part in a Diwali contest at a Diwali Party that will begin at 8 PM and will run until midnight (12 AM) i.e., for 4 hours. The contest comprises of N problems that are arranged in order of difficulty, with problem 1 being the simplest and problem N being the most difficult. Max is aware that he will require 5*i minutes to solve the ith problem.\n",
    "\n",
    "### You will be give the Start time as T. Your task is to find and return an integer value, representing the number of problems Max can solve and reach the party venue within the given time frame of 4 hours.\n",
    "\n",
    "### Note: Max will leave his home at exactly 8 PM to reach the party venue"
   ]
  },
  {
   "cell_type": "code",
   "execution_count": 1,
   "id": "36e7eda0-2055-4cb9-8827-345decb68dac",
   "metadata": {},
   "outputs": [
    {
     "name": "stdout",
     "output_type": "stream",
     "text": [
      "9\n"
     ]
    }
   ],
   "source": [
    "def max_problems_solved(T):\n",
    "    total_time = 240\n",
    "    current_time = 0\n",
    "    problems_solved = 0\n",
    "    \n",
    "    for i in range(1, T + 1):\n",
    "        time_for_problem = 5 * i\n",
    "        if current_time + time_for_problem <= total_time:\n",
    "            current_time += time_for_problem\n",
    "            problems_solved += 1\n",
    "        else:\n",
    "            break\n",
    "    \n",
    "    return problems_solved\n",
    "\n",
    "# Example usage\n",
    "T = 10  # Total number of problems in the contest\n",
    "print(max_problems_solved(T))  # Output the number of problems Max can solve\n"
   ]
  },
  {
   "cell_type": "code",
   "execution_count": null,
   "id": "7f510fba-4515-4aed-bb99-dcfe9cfeb8b2",
   "metadata": {},
   "outputs": [],
   "source": [
    "Max is planning to take part in a Diwali contest at a Diwali Party that will begin at 8 PM and \n",
    "will run until midnight (12 AM) i.e., for 4 hours. He also needs to travel to the party venue \n",
    "within this time which takes him P minutes. The contest comprises of N problems that are \n",
    "arranged in order of difficulty, with problem 1 being the simplest and problem N being the \n",
    "most difficult. Max is aware that he will require 5*i minutes to solve the ith problem.  \n",
    "Your task is help Max find and return an integer value, representing the number of \n",
    "problems Max can solve and reach the party venue within the given time frame of 4 hours.  \n",
    "Note: Max will leave his home at exactly 8 PM to reach the party venue.  \n",
    "Input Format:  \n",
    "input1: An integer value N, representing the total number of problems.  \n",
    "input2: An integer value P, Representing the time to travel in minutes from his home to the \n",
    "party venue.  \n",
    "Example:  \n",
    "Input:  \n",
    "6 180  \n",
    "Output:  \n",
    "4  \n",
    "Explanation:  \n",
    "The amount of time left to solve the problems is 4*60-180=60 mins.  \n",
    "1st Problem - 1 mins, Time left = 60-5=55 mins  \n",
    "2nd Problem - 10 mins, Time left = 55-10=45 mins  \n",
    "3rd Problem  - 15 mins, Time left = 45-15=30 mins  \n",
    "4th Problem  - 20 mins, Time left = 30-20=10 mins  \n",
    "5th Problem  - 25 mins  \n",
    "So he can solve only 4 problems as he is not left with 25 mins to complete 5th problem.  "
   ]
  },
  {
   "cell_type": "code",
   "execution_count": 3,
   "id": "8a1230f2-edf1-4069-8362-f129c29c530e",
   "metadata": {},
   "outputs": [
    {
     "name": "stdout",
     "output_type": "stream",
     "text": [
      "4\n"
     ]
    }
   ],
   "source": [
    "def max_problems_solved(N, P):\n",
    "    total_time = 240\n",
    "    available_time = total_time - P\n",
    "    current_time = 0\n",
    "    problems_solved = 0\n",
    "    \n",
    "    for i in range(1, N + 1):\n",
    "        time_for_problem = 5 * i\n",
    "        if current_time + time_for_problem <= available_time:\n",
    "            current_time += time_for_problem\n",
    "            problems_solved += 1\n",
    "        else:\n",
    "            break\n",
    "    \n",
    "    return problems_solved\n",
    "N = 6 \n",
    "P = 180  \n",
    "print(max_problems_solved(N, P))  \n"
   ]
  },
  {
   "cell_type": "code",
   "execution_count": 1,
   "id": "817b4c13-38fb-47a1-9bcd-071501c1f3a0",
   "metadata": {},
   "outputs": [
    {
     "name": "stdout",
     "output_type": "stream",
     "text": [
      "candidate 2 won with total votes 3\n"
     ]
    }
   ],
   "source": [
    "'''\n",
    "6) Elections   \n",
    "You are the head of the election committee in your village. Each Political party is associated \n",
    "with a unique number and the votes are represented as an integer array A. where each \n",
    "element contains the party number voted for by the villagers. For a party to win, they must  \n",
    "have a majority of votes. our task is to find and return an integer value denoting the winning \n",
    "party's number. Return -1 if there is no party with a majority.  \n",
    "Note: If only one vote is there he is the winner.  \n",
    "Input Format : input1: An integer value representing the number the \n",
    "number of voters input2: An integer array A representing the votes of the \n",
    "voters. output Format:  \n",
    "Return an integer value denoting the winning party's number.Return -1 there is no party \n",
    "with a majority  \n",
    "Example 1:  \n",
    "Input:  \n",
    "6  \n",
    "1 1 2 2 2 3 Output:  \n",
    "2  \n",
    "Explanation:  \n",
    "As 2 got the most number of votes i.e 3.   \n",
    "Example 2:  \n",
    "Input:  \n",
    "6 1 2 1 1 2 \n",
    "2  \n",
    "Output:  -1  \n",
    "Explanation:  \n",
    "As both the contestants got same votes there is no majority. \n",
    "'''\n",
    "from collections import Counter\n",
    "v=[1,2,2,2,5,5,6,4,3,3]\n",
    "c=Counter(v)\n",
    "m=0\n",
    "id=0\n",
    "for i,j in c.items():\n",
    "    if j>m:\n",
    "        m=j\n",
    "        id=i\n",
    "l=list(c.values())\n",
    "if l.count(c[id])>1:\n",
    "    print(\"Cadidates\",end=\" \")\n",
    "    for i,j in c.items():\n",
    "        if m==j:\n",
    "            print(i,end=\" \")\n",
    "    print(\" have same votes its draw!\")    \n",
    "else:\n",
    "    print(f\"candidate {id} won with total votes {c[id]}\")"
   ]
  },
  {
   "cell_type": "code",
   "execution_count": 2,
   "id": "f848290a-1765-462c-b8fc-6649460c79e2",
   "metadata": {},
   "outputs": [
    {
     "name": "stdout",
     "output_type": "stream",
     "text": [
      "2\n"
     ]
    }
   ],
   "source": [
    "'''\n",
    "7) Space Counter  \n",
    "You have been given the task of making the content on a social media platform more user\n",
    "friendly. Your task is to find and return an integer value representing the count of the \n",
    "number of spaces in a given string S.  \n",
    "Input: A \n",
    "string S  \n",
    "Output :   \n",
    "Return an integer value representing the count of the number of spaces in a given string S.  \n",
    "Example:  \n",
    "Input: Hello \n",
    "World Hey  \n",
    "Output:  \n",
    "2 \n",
    "'''\n",
    "s='i am batman'\n",
    "print(s.count(\" \"))"
   ]
  },
  {
   "cell_type": "code",
   "execution_count": 3,
   "id": "0993333f-9607-4fce-ac8c-fc0a4f778fda",
   "metadata": {},
   "outputs": [
    {
     "name": "stdout",
     "output_type": "stream",
     "text": [
      "5\n"
     ]
    }
   ],
   "source": [
    "'''\n",
    " Minimum Array sum  \n",
    "Paul is given an array A of length N. He must perform the following Operations on the array \n",
    "sequentially:  \n",
    "* Choose any two integers from the array and calculate their average.  \n",
    "* If an element is less than the average, update it to 0. However, if the element is greater \n",
    "than or equal to the average, he need not update it.  \n",
    "Your task is to help Paul find and return an integer value, representing the minimum possible \n",
    "sum of all the elements in the array by performing the above operations.  \n",
    "Note: An exact average should be calculated, even if it results in a decimal.  \n",
    "Input Format:  \n",
    "input1: An integer value N, representing the size of the array A. input2: An \n",
    "integer array A.  \n",
    "Output  Format:  \n",
    "Return an integer value, representing the minimum possible sum of all the elements in the \n",
    "array by  \n",
    "Sample Input  \n",
    "5  \n",
    "1 2 3 4 5  \n",
    "Sample Output \n",
    "'''\n",
    "def minimum_array_sum(N, A):\n",
    "    A.sort()\n",
    "    i = 0\n",
    "    while i < N-1:\n",
    "        avg = (A[i] + A[i+1]) / 2\n",
    "        if A[i] < avg:\n",
    "            A[i] = 0\n",
    "        i += 1\n",
    "    \n",
    "    return sum(A)\n",
    "\n",
    "# Example usage\n",
    "N = 5\n",
    "A = [1, 2, 3, 4, 5]\n",
    "print(minimum_array_sum(N, A))  # Output should be 5\n"
   ]
  },
  {
   "cell_type": "code",
   "execution_count": 5,
   "id": "7f1f3519-67db-4370-8b89-5499a36a7b95",
   "metadata": {},
   "outputs": [
    {
     "name": "stdout",
     "output_type": "stream",
     "text": [
      "7\n"
     ]
    }
   ],
   "source": [
    "'''\n",
    "9) Math test  \n",
    "Alice has a mathematics test for which she is underprepared. She has to do at least one \n",
    "question correctly to pass the test. He decides to do a question which needs her to find the \n",
    "smallest prime number which is larger than a given integer N. Your task is to find and return \n",
    "an integer value representing the smallest prime number larger than N.  \n",
    "Input Format:  \n",
    "input1: An integer value N  \n",
    "Output Format:  \n",
    "Return an integer value representing the smallest prime number larger than N.  \n",
    "Sample Input  \n",
    "6  \n",
    "Sample Output  \n",
    "7  \n",
    "'''\n",
    "import math\n",
    "def is_prime(m):\n",
    "    \"\"\"Check if a number is prime.\"\"\"\n",
    "    if m <= 1:\n",
    "        return False\n",
    "    if m == 2:\n",
    "        return True\n",
    "    if m % 2 == 0:\n",
    "        return False\n",
    "    for i in range(3, int(math.sqrt(m)) + 1, 2):\n",
    "        if m % i == 0:\n",
    "            return False\n",
    "    return True\n",
    "\n",
    "def next_prime(n):\n",
    "    \"\"\"Find the smallest prime number larger than n.\"\"\"\n",
    "    i = n + 1\n",
    "    while True:\n",
    "        if is_prime(i):\n",
    "            return i\n",
    "        i += 1\n",
    "print(next_prime(5))"
   ]
  },
  {
   "cell_type": "code",
   "execution_count": 6,
   "id": "39cfed35-fcc4-4445-aa8c-771d6a693d85",
   "metadata": {},
   "outputs": [
    {
     "name": "stdout",
     "output_type": "stream",
     "text": [
      "8\n"
     ]
    }
   ],
   "source": [
    "'''\n",
    "10) Magic String  \n",
    "Eva has a string S containing lowercase English letters. She wants to transform this string into \n",
    "a Magic String, where all the characters in the string are the same. To do so, she can replace \n",
    "any letter in the string with another letter present in that string. 6  \n",
    "Your task is to help Eva find and return an integer value, representing the minimum number \n",
    "of steps required to form a Magic String. Return 0, if S is already a Magic String.  \n",
    "Input Specification:  \n",
    "input1: A string S, containing lowercase English letters.  \n",
    "Output Specification:  \n",
    "Return an integer value, representing the minimum number of steps required to form a \n",
    "Magic String. Return 0, if S is already a Magic String.  \n",
    "Sample Input: aaabbbccdddd  \n",
    "Sample Output:  \n",
    "8 \n",
    "'''\n",
    "s='aaabbbccdddd'\n",
    "print(len(s)-s.count(max(s)))"
   ]
  },
  {
   "cell_type": "code",
   "execution_count": 17,
   "id": "a1bbd9c3-9c2d-4d4a-9534-e3e5c03e29b3",
   "metadata": {},
   "outputs": [
    {
     "name": "stdout",
     "output_type": "stream",
     "text": [
      "13649\n"
     ]
    },
    {
     "name": "stdin",
     "output_type": "stream",
     "text": [
      " 167\n"
     ]
    },
    {
     "name": "stdout",
     "output_type": "stream",
     "text": [
      "16394\n"
     ]
    }
   ],
   "source": [
    "'''\n",
    "11) Encode The Number  \n",
    "You work in the message encoding department of a national security agency. Every message \n",
    "that is sent from or received in your office is encoded. You have an integer N, and each digit \n",
    "of N is squared and the squares are concatenated together to encode the original number. \n",
    "Your task is to find and return an integer value representing the encoded value of the \n",
    "number.  \n",
    "input1: An integer value N representing the number to be encoded.  \n",
    "Output :  \n",
    "Return an integer value representing the encoded value of the number.  \n",
    "Sample Input:  \n",
    "167  \n",
    "Sample Output:  \n",
    "13649  \n",
    "'''\n",
    "n=167\n",
    "s=str(n)\n",
    "ss=''\n",
    "for i in s:\n",
    "    ss+=str(int(i)*int(i))\n",
    "print(ss)\n",
    "#-----------------------------------\n",
    "n=int(input())\n",
    "def rev2(n):\n",
    "    ans2=0\n",
    "    while n>0:\n",
    "        digit=n%10\n",
    "        ans2=ans2*10+digit\n",
    "        n=n//10\n",
    "    return ans2\n",
    "print(rev2(ans))"
   ]
  },
  {
   "cell_type": "code",
   "execution_count": 23,
   "id": "3b6aa58d-9f56-4390-b20d-0c06d434b2f0",
   "metadata": {},
   "outputs": [
    {
     "name": "stdout",
     "output_type": "stream",
     "text": [
      "3\n",
      "-3\n"
     ]
    }
   ],
   "source": [
    "'''\n",
    "12) Arduino  \n",
    "Tom is an Arduino Programmer. He has designed a program to run his robocar on a \n",
    "horizontal number line. Initially, the car is parked at: 0.  \n",
    "Given an array A of N integers which can be A. B. C... the robocar runs as follows as per the \n",
    "designed program  \n",
    "First the robocar moves A units in specified direction(right in case the integer is positive and \n",
    "left if the integer is negative).  \n",
    "Then robocar first moves A units and then B units in a specified direction.  \n",
    "In the next step, the robocar moves A units. B units, and then C units in a specified direction.  \n",
    "This process keeps on repeating as per the number of integers in the sequence..  \n",
    "Your task is to find and retum an integer value, representing the farthest coordinate reached \n",
    "by the robocar from the beginning to the end of the process.  \n",
    "Sample Input:  \n",
    "1 -2 3 4  \n",
    "Sample Output:  \n",
    "6 \n",
    "'''\n",
    "def farthest_coordinate(A):\n",
    "    current_position = 0\n",
    "    farthest_position = 0\n",
    "    \n",
    "    for step in A:\n",
    "        current_position += step\n",
    "        farthest_position = max(farthest_position, abs(current_position))\n",
    "    \n",
    "    return farthest_position\n",
    "\n",
    "# Example usage\n",
    "A = [-1, 2, -3, 4, -5]\n",
    "print(farthest_coordinate(A))  # Output should be 6\n",
    "#------------\n",
    "A = [-1, 2, -3, 4, -5]\n",
    "\n",
    "print(sum(A))"
   ]
  }
 ],
 "metadata": {
  "kernelspec": {
   "display_name": "Python 3 (ipykernel)",
   "language": "python",
   "name": "python3"
  },
  "language_info": {
   "codemirror_mode": {
    "name": "ipython",
    "version": 3
   },
   "file_extension": ".py",
   "mimetype": "text/x-python",
   "name": "python",
   "nbconvert_exporter": "python",
   "pygments_lexer": "ipython3",
   "version": "3.11.4"
  }
 },
 "nbformat": 4,
 "nbformat_minor": 5
}
