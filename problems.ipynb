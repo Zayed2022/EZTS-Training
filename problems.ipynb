{
 "cells": [
  {
   "cell_type": "markdown",
   "id": "ffd884e9-f425-4af0-8fea-6677950a2999",
   "metadata": {},
   "source": [
    "## ELECTION"
   ]
  },
  {
   "cell_type": "code",
   "execution_count": 20,
   "id": "5b61499a-e189-4fa3-9833-794084741f3c",
   "metadata": {},
   "outputs": [
    {
     "name": "stdout",
     "output_type": "stream",
     "text": [
      "candidate 2 won with total votes 3\n"
     ]
    }
   ],
   "source": [
    "from collections import Counter\n",
    "v=[1,2,2,2,5,5,6,4,3,3]\n",
    "c=Counter(v)\n",
    "m=0\n",
    "id=0\n",
    "for i,j in c.items():\n",
    "    if j>m:\n",
    "        m=j\n",
    "        id=i\n",
    "l=list(c.values())\n",
    "if l.count(c[id])>1:\n",
    "    print(\"Cadidates\",end=\" \")\n",
    "    for i,j in c.items():\n",
    "        if m==j:\n",
    "            print(i,end=\" \")\n",
    "    print(\" have same votes its draw!\")    \n",
    "else:\n",
    "    print(f\"candidate {id} won with total votes {c[id]}\")"
   ]
  },
  {
   "cell_type": "code",
   "execution_count": null,
   "id": "14acb264-afeb-43f5-a08e-a70c6c98ef9f",
   "metadata": {},
   "outputs": [],
   "source": []
  }
 ],
 "metadata": {
  "kernelspec": {
   "display_name": "Python 3 (ipykernel)",
   "language": "python",
   "name": "python3"
  },
  "language_info": {
   "codemirror_mode": {
    "name": "ipython",
    "version": 3
   },
   "file_extension": ".py",
   "mimetype": "text/x-python",
   "name": "python",
   "nbconvert_exporter": "python",
   "pygments_lexer": "ipython3",
   "version": "3.11.4"
  }
 },
 "nbformat": 4,
 "nbformat_minor": 5
}
