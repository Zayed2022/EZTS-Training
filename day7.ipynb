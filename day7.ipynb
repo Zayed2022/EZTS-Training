{
 "cells": [
  {
   "cell_type": "markdown",
   "id": "ba9c1ea3-f59d-4878-8756-ab56bb1f88d7",
   "metadata": {},
   "source": [
    "## Valid parentheses"
   ]
  },
  {
   "cell_type": "code",
   "execution_count": null,
   "id": "b1e59045-f66b-4e9d-938d-757449e2043d",
   "metadata": {},
   "outputs": [],
   "source": [
    "class Stack:\n",
    "    def __init__(self) -> None:\n",
    "        self.items=[]\n",
    "    def push(self,data):\n",
    "        self.items.append(data)\n",
    "    def pop(self):\n",
    "        return self.items.pop()\n",
    "    def size(self):\n",
    "        return len(self.items)\n",
    "    def display(self):\n",
    "        print(self.items)\n",
    "    def top(self):\n",
    "        if len(self.items)==0:\n",
    "            return 0\n",
    "        return self.items[-1]\n",
    "    \n",
    "st = Stack()\n",
    "exp = \"{[3+4{43/11(3+5)}]}\"\n",
    "for i in exp:\n",
    "    st.display()\n",
    "    if i in \"{[(\":\n",
    "        st.push(i)\n",
    "    if i == \"]\" and st.top()==\"[\":\n",
    "        st.pop()\n",
    "    elif i==\")\" and st.top()==\"(\":\n",
    "        st.pop()\n",
    "    elif i==\"}\" and st.top()==\"{\":\n",
    "        st.pop()\n",
    "    elif i in \"]})\":\n",
    "        st.push(i)\n",
    "print(st.size())   \n",
    "if st.size()==0:\n",
    "    print(\"valid\")\n",
    "else:\n",
    "    print(\"invalid\")"
   ]
  },
  {
   "cell_type": "code",
   "execution_count": 1,
   "id": "5acd1f55-0f3a-4506-91ba-08d90f4913c6",
   "metadata": {},
   "outputs": [
    {
     "name": "stdout",
     "output_type": "stream",
     "text": [
      "Invalid\n"
     ]
    }
   ],
   "source": [
    "class Stack:\n",
    "    def __init__(self):\n",
    "        self.val = []\n",
    "\n",
    "    def push(self, data):\n",
    "        self.val.append(data)\n",
    "\n",
    "    def pop(self):\n",
    "        return self.val.pop() if not self.is_empty() else None\n",
    "\n",
    "    def size(self):\n",
    "        return len(self.val)\n",
    "\n",
    "    def read(self):\n",
    "        print(self.val)\n",
    "\n",
    "    def top(self):\n",
    "        return self.val[-1] if not self.is_empty() else None\n",
    "\n",
    "    def is_empty(self):\n",
    "        return len(self.val) == 0\n",
    "\n",
    "def is_balanced(eq):\n",
    "    stack = Stack()\n",
    "    matching_bracket = {')': '(', ']': '[', '}': '{'}\n",
    "    \n",
    "    for char in eq:\n",
    "        if char in '[({':\n",
    "            stack.push(char)\n",
    "        elif char in '])}':\n",
    "            if stack.is_empty() or stack.pop() != matching_bracket[char]:\n",
    "                return False\n",
    "    \n",
    "    return stack.is_empty()\n",
    "\n",
    "eq = \"}[3+7{52/11(3+5)}]{\"\n",
    "if is_balanced(eq):\n",
    "    print(\"Valid\")\n",
    "else:\n",
    "    print(\"Invalid\")\n"
   ]
  },
  {
   "cell_type": "markdown",
   "id": "eab05d08-edd8-45a7-abb8-a28ddc436f73",
   "metadata": {},
   "source": [
    "## superviors prob\n"
   ]
  },
  {
   "cell_type": "code",
   "execution_count": 11,
   "id": "1e5701ba-664b-4e42-a72f-b5ab3bee9065",
   "metadata": {},
   "outputs": [
    {
     "name": "stdout",
     "output_type": "stream",
     "text": [
      "[5, 14, 14, -1, 7, 7, 9, -1, 6, 9, -1, 5, 5, -1, -1]\n"
     ]
    }
   ],
   "source": [
    "a=[3,5,2,14,5,3,7,9,4,6,9,4,2,5,3]\n",
    "l=[]\n",
    "for i in range(len(a)):\n",
    "    c=0\n",
    "    for j in a[i+1:]:\n",
    "        if a[i]<j:\n",
    "            c+=1\n",
    "            l.append(j)\n",
    "            break \n",
    "    if c==0:\n",
    "        l.append(-1)\n",
    "print(l)\n",
    "        "
   ]
  },
  {
   "cell_type": "markdown",
   "id": "d2c71dab-1ebc-4a74-b888-28d4d33c0c51",
   "metadata": {},
   "source": [
    "## using stack"
   ]
  },
  {
   "cell_type": "code",
   "execution_count": 2,
   "id": "f4445e65-a918-4ade-84a8-eacf99efd1e6",
   "metadata": {},
   "outputs": [
    {
     "name": "stdout",
     "output_type": "stream",
     "text": [
      "[5, 14, 14, -1, 7, 7, 9, -1, 6, 9, -1, 5, 5, -1, -1]\n"
     ]
    }
   ],
   "source": [
    "class Stack:\n",
    "    def __init__(self):\n",
    "        self.val = []\n",
    "\n",
    "    def push(self, data):\n",
    "        self.val.append(data)\n",
    "\n",
    "    def pop(self):\n",
    "        return self.val.pop() if not self.is_empty() else None\n",
    "\n",
    "    def size(self):\n",
    "        return len(self.val)\n",
    "\n",
    "    def read(self):\n",
    "        print(self.val)\n",
    "\n",
    "    def top(self):\n",
    "        return self.val[-1] if not self.is_empty() else None\n",
    "\n",
    "    def is_empty(self):\n",
    "        return len(self.val) == 0\n",
    "a=[3,5,2,14,5,3,7,9,4,6,9,4,2,5,3]\n",
    "l=[]\n",
    "s=Stack()\n",
    "stack=[]\n",
    "o=[-1]*len(a)\n",
    "for i in range(len(a)-1,-1,-1):\n",
    "    while stack and stack[-1]<=a[i]:\n",
    "        stack.pop()\n",
    "    if stack:\n",
    "        o[i]=stack[-1]\n",
    "    else:\n",
    "        o[i]=-1\n",
    "    \n",
    "    stack.append(a[i])\n",
    "print(o)"
   ]
  },
  {
   "cell_type": "markdown",
   "id": "537aea62-7f3b-4148-b4ef-bf05b1d9356a",
   "metadata": {},
   "source": [
    "## Linked List"
   ]
  },
  {
   "cell_type": "code",
   "execution_count": null,
   "id": "c7c7e3f3-72c2-4ac1-bf93-13d4b79b98cf",
   "metadata": {},
   "outputs": [
    {
     "name": "stdout",
     "output_type": "stream",
     "text": [
      "1.add front \n",
      "2.add end \n",
      "3add mid \n",
      "4.delete front \n",
      "5.delete mid \n",
      "6.delete end\n",
      "7.exit\n",
      "\n"
     ]
    },
    {
     "name": "stdin",
     "output_type": "stream",
     "text": [
      "Enter choice 2\n",
      "data: 45\n"
     ]
    },
    {
     "name": "stdout",
     "output_type": "stream",
     "text": [
      "1.add front \n",
      "2.add end \n",
      "3add mid \n",
      "4.delete front \n",
      "5.delete mid \n",
      "6.delete end\n",
      "7.exit\n",
      "\n"
     ]
    },
    {
     "name": "stdin",
     "output_type": "stream",
     "text": [
      "Enter choice 2\n",
      "data: 56\n"
     ]
    },
    {
     "name": "stdout",
     "output_type": "stream",
     "text": [
      "1.add front \n",
      "2.add end \n",
      "3add mid \n",
      "4.delete front \n",
      "5.delete mid \n",
      "6.delete end\n",
      "7.exit\n",
      "\n"
     ]
    },
    {
     "name": "stdin",
     "output_type": "stream",
     "text": [
      "Enter choice 2\n",
      "data: 67\n"
     ]
    },
    {
     "name": "stdout",
     "output_type": "stream",
     "text": [
      "1.add front \n",
      "2.add end \n",
      "3add mid \n",
      "4.delete front \n",
      "5.delete mid \n",
      "6.delete end\n",
      "7.exit\n",
      "\n"
     ]
    },
    {
     "name": "stdin",
     "output_type": "stream",
     "text": [
      "Enter choice 8\n"
     ]
    },
    {
     "name": "stdout",
     "output_type": "stream",
     "text": [
      "45 56 67 1.add front \n",
      "2.add end \n",
      "3add mid \n",
      "4.delete front \n",
      "5.delete mid \n",
      "6.delete end\n",
      "7.exit\n",
      "\n"
     ]
    }
   ],
   "source": [
    "class Node:\n",
    "    def __init__(self,data):\n",
    "        self.val=data\n",
    "        self.next=None\n",
    "class LL: \n",
    "    def __init__(self):\n",
    "        self.head=None\n",
    "    \n",
    "    def addend(self,data):\n",
    "        if self.head==None:\n",
    "            self.head=Node(data)\n",
    "        else:\n",
    "            temp=self.head\n",
    "            while temp.next is not None:\n",
    "                temp=temp.next\n",
    "            temp.next=Node(data)\n",
    "    def addfront(self,data):\n",
    "        \n",
    "    def printi(self):\n",
    "        temp=self.head\n",
    "        while temp is not None:\n",
    "            print(temp.val,end=\" \")\n",
    "            temp=temp.next\n",
    "l=LL()\n",
    "while True:\n",
    "    print(\"\\n1.add front \\n2.add end \\n3add mid \\n4.delete front \\n5.delete mid \\n6.delete end\\n7.exit\\n\")\n",
    "    ch=int(input(\"Enter choice\"))\n",
    "    if ch==1:\n",
    "        data=int(input(\"data:\"))\n",
    "        l.addfront(data)\n",
    "    if ch==2:\n",
    "        data=int(input(\"data:\"))\n",
    "        l.addend(data)\n",
    "    if ch==8:\n",
    "        l.printi()\n",
    "    if ch==7:\n",
    "        break\n",
    "\n",
    "\n",
    "\n",
    "        "
   ]
  },
  {
   "cell_type": "code",
   "execution_count": 1,
   "id": "f785a25b-d4e3-4ee8-80dd-900bc9b8a3b8",
   "metadata": {},
   "outputs": [
    {
     "name": "stdout",
     "output_type": "stream",
     "text": [
      "\n",
      "1. add front \n",
      "2. add end \n",
      "3. add mid \n",
      "4. delete front \n",
      "5. delete mid \n",
      "6. delete end\n",
      "7. exit\n",
      "8. print\n",
      "\n"
     ]
    },
    {
     "name": "stdin",
     "output_type": "stream",
     "text": [
      "Enter choice:  8\n"
     ]
    },
    {
     "name": "stdout",
     "output_type": "stream",
     "text": [
      "\n",
      "\n",
      "1. add front \n",
      "2. add end \n",
      "3. add mid \n",
      "4. delete front \n",
      "5. delete mid \n",
      "6. delete end\n",
      "7. exit\n",
      "8. print\n",
      "\n"
     ]
    },
    {
     "name": "stdin",
     "output_type": "stream",
     "text": [
      "Enter choice:  1\n",
      "data:  12\n"
     ]
    },
    {
     "name": "stdout",
     "output_type": "stream",
     "text": [
      "\n",
      "1. add front \n",
      "2. add end \n",
      "3. add mid \n",
      "4. delete front \n",
      "5. delete mid \n",
      "6. delete end\n",
      "7. exit\n",
      "8. print\n",
      "\n"
     ]
    },
    {
     "name": "stdin",
     "output_type": "stream",
     "text": [
      "Enter choice:  8\n"
     ]
    },
    {
     "name": "stdout",
     "output_type": "stream",
     "text": [
      "12 \n",
      "\n",
      "1. add front \n",
      "2. add end \n",
      "3. add mid \n",
      "4. delete front \n",
      "5. delete mid \n",
      "6. delete end\n",
      "7. exit\n",
      "8. print\n",
      "\n"
     ]
    },
    {
     "name": "stdin",
     "output_type": "stream",
     "text": [
      "Enter choice:  2\n",
      "data:  13\n"
     ]
    },
    {
     "name": "stdout",
     "output_type": "stream",
     "text": [
      "\n",
      "1. add front \n",
      "2. add end \n",
      "3. add mid \n",
      "4. delete front \n",
      "5. delete mid \n",
      "6. delete end\n",
      "7. exit\n",
      "8. print\n",
      "\n"
     ]
    },
    {
     "name": "stdin",
     "output_type": "stream",
     "text": [
      "Enter choice:  8\n"
     ]
    },
    {
     "name": "stdout",
     "output_type": "stream",
     "text": [
      "12 13 \n",
      "\n",
      "1. add front \n",
      "2. add end \n",
      "3. add mid \n",
      "4. delete front \n",
      "5. delete mid \n",
      "6. delete end\n",
      "7. exit\n",
      "8. print\n",
      "\n"
     ]
    },
    {
     "name": "stdin",
     "output_type": "stream",
     "text": [
      "Enter choice:  3\n",
      "data:  1\n",
      "position:  1\n"
     ]
    },
    {
     "name": "stdout",
     "output_type": "stream",
     "text": [
      "\n",
      "1. add front \n",
      "2. add end \n",
      "3. add mid \n",
      "4. delete front \n",
      "5. delete mid \n",
      "6. delete end\n",
      "7. exit\n",
      "8. print\n",
      "\n"
     ]
    },
    {
     "name": "stdin",
     "output_type": "stream",
     "text": [
      "Enter choice:  8\n"
     ]
    },
    {
     "name": "stdout",
     "output_type": "stream",
     "text": [
      "12 1 13 \n",
      "\n",
      "1. add front \n",
      "2. add end \n",
      "3. add mid \n",
      "4. delete front \n",
      "5. delete mid \n",
      "6. delete end\n",
      "7. exit\n",
      "8. print\n",
      "\n"
     ]
    },
    {
     "name": "stdin",
     "output_type": "stream",
     "text": [
      "Enter choice:  1\n",
      "data:  11\n"
     ]
    },
    {
     "name": "stdout",
     "output_type": "stream",
     "text": [
      "\n",
      "1. add front \n",
      "2. add end \n",
      "3. add mid \n",
      "4. delete front \n",
      "5. delete mid \n",
      "6. delete end\n",
      "7. exit\n",
      "8. print\n",
      "\n"
     ]
    },
    {
     "name": "stdin",
     "output_type": "stream",
     "text": [
      "Enter choice:  8\n"
     ]
    },
    {
     "name": "stdout",
     "output_type": "stream",
     "text": [
      "11 12 1 13 \n",
      "\n",
      "1. add front \n",
      "2. add end \n",
      "3. add mid \n",
      "4. delete front \n",
      "5. delete mid \n",
      "6. delete end\n",
      "7. exit\n",
      "8. print\n",
      "\n"
     ]
    },
    {
     "name": "stdin",
     "output_type": "stream",
     "text": [
      "Enter choice:  4\n"
     ]
    },
    {
     "name": "stdout",
     "output_type": "stream",
     "text": [
      "\n",
      "1. add front \n",
      "2. add end \n",
      "3. add mid \n",
      "4. delete front \n",
      "5. delete mid \n",
      "6. delete end\n",
      "7. exit\n",
      "8. print\n",
      "\n"
     ]
    },
    {
     "name": "stdin",
     "output_type": "stream",
     "text": [
      "Enter choice:  8\n"
     ]
    },
    {
     "name": "stdout",
     "output_type": "stream",
     "text": [
      "12 1 13 \n",
      "\n",
      "1. add front \n",
      "2. add end \n",
      "3. add mid \n",
      "4. delete front \n",
      "5. delete mid \n",
      "6. delete end\n",
      "7. exit\n",
      "8. print\n",
      "\n"
     ]
    },
    {
     "name": "stdin",
     "output_type": "stream",
     "text": [
      "Enter choice:  5\n",
      "position:  1\n"
     ]
    },
    {
     "name": "stdout",
     "output_type": "stream",
     "text": [
      "\n",
      "1. add front \n",
      "2. add end \n",
      "3. add mid \n",
      "4. delete front \n",
      "5. delete mid \n",
      "6. delete end\n",
      "7. exit\n",
      "8. print\n",
      "\n"
     ]
    },
    {
     "name": "stdin",
     "output_type": "stream",
     "text": [
      "Enter choice:  8\n"
     ]
    },
    {
     "name": "stdout",
     "output_type": "stream",
     "text": [
      "12 13 \n",
      "\n",
      "1. add front \n",
      "2. add end \n",
      "3. add mid \n",
      "4. delete front \n",
      "5. delete mid \n",
      "6. delete end\n",
      "7. exit\n",
      "8. print\n",
      "\n"
     ]
    },
    {
     "name": "stdin",
     "output_type": "stream",
     "text": [
      "Enter choice:  6\n"
     ]
    },
    {
     "name": "stdout",
     "output_type": "stream",
     "text": [
      "\n",
      "1. add front \n",
      "2. add end \n",
      "3. add mid \n",
      "4. delete front \n",
      "5. delete mid \n",
      "6. delete end\n",
      "7. exit\n",
      "8. print\n",
      "\n"
     ]
    },
    {
     "name": "stdin",
     "output_type": "stream",
     "text": [
      "Enter choice:  8\n"
     ]
    },
    {
     "name": "stdout",
     "output_type": "stream",
     "text": [
      "12 \n",
      "\n",
      "1. add front \n",
      "2. add end \n",
      "3. add mid \n",
      "4. delete front \n",
      "5. delete mid \n",
      "6. delete end\n",
      "7. exit\n",
      "8. print\n",
      "\n"
     ]
    },
    {
     "name": "stdin",
     "output_type": "stream",
     "text": [
      "Enter choice:  6\n"
     ]
    },
    {
     "name": "stdout",
     "output_type": "stream",
     "text": [
      "\n",
      "1. add front \n",
      "2. add end \n",
      "3. add mid \n",
      "4. delete front \n",
      "5. delete mid \n",
      "6. delete end\n",
      "7. exit\n",
      "8. print\n",
      "\n"
     ]
    },
    {
     "name": "stdin",
     "output_type": "stream",
     "text": [
      "Enter choice:  8\n"
     ]
    },
    {
     "name": "stdout",
     "output_type": "stream",
     "text": [
      "\n",
      "\n",
      "1. add front \n",
      "2. add end \n",
      "3. add mid \n",
      "4. delete front \n",
      "5. delete mid \n",
      "6. delete end\n",
      "7. exit\n",
      "8. print\n",
      "\n"
     ]
    },
    {
     "name": "stdin",
     "output_type": "stream",
     "text": [
      "Enter choice:  7\n"
     ]
    }
   ],
   "source": [
    "class Node:\n",
    "    def __init__(self, data):\n",
    "        self.val = data\n",
    "        self.next = None\n",
    "\n",
    "class LL: \n",
    "    def __init__(self):\n",
    "        self.head = None\n",
    "\n",
    "    def addfront(self, data):\n",
    "        new_node = Node(data)\n",
    "        new_node.next = self.head\n",
    "        self.head = new_node\n",
    "\n",
    "    def addend(self, data):\n",
    "        if self.head is None:\n",
    "            self.head = Node(data)\n",
    "        else:\n",
    "            temp = self.head\n",
    "            while temp.next is not None:\n",
    "                temp = temp.next\n",
    "            temp.next = Node(data)\n",
    "\n",
    "    def addmid(self, data, pos):\n",
    "        if pos == 0:\n",
    "            self.addfront(data)\n",
    "            return\n",
    "        new_node = Node(data)\n",
    "        temp = self.head\n",
    "        count = 0\n",
    "        while temp is not None and count < pos - 1:\n",
    "            temp = temp.next\n",
    "            count += 1\n",
    "        if temp is None:\n",
    "            print(f\"Position {pos} is out of bounds\")\n",
    "        else:\n",
    "            new_node.next = temp.next\n",
    "            temp.next = new_node\n",
    "\n",
    "    def deletefront(self):\n",
    "        if self.head is None:\n",
    "            print(\"List is empty\")\n",
    "        else:\n",
    "            self.head = self.head.next\n",
    "\n",
    "    def deleteend(self):\n",
    "        if self.head is None:\n",
    "            print(\"List is empty\")\n",
    "        elif self.head.next is None:\n",
    "            self.head = None\n",
    "        else:\n",
    "            temp = self.head\n",
    "            while temp.next.next is not None:\n",
    "                temp = temp.next\n",
    "            temp.next = None\n",
    "\n",
    "    def deletemid(self, pos):\n",
    "        if self.head is None:\n",
    "            print(\"List is empty\")\n",
    "            return\n",
    "        if pos == 0:\n",
    "            self.head = self.head.next\n",
    "            return\n",
    "        temp = self.head\n",
    "        count = 0\n",
    "        while temp is not None and count < pos - 1:\n",
    "            temp = temp.next\n",
    "            count += 1\n",
    "        if temp is None or temp.next is None:\n",
    "            print(f\"Position {pos} is out of bounds\")\n",
    "        else:\n",
    "            temp.next = temp.next.next\n",
    "\n",
    "    def printi(self):\n",
    "        temp = self.head\n",
    "        while temp is not None:\n",
    "            print(temp.val, end=\" \")\n",
    "            temp = temp.next\n",
    "        print()\n",
    "\n",
    "l = LL()\n",
    "while True:\n",
    "    print(\"\\n1. add front \\n2. add end \\n3. add mid \\n4. delete front \\n5. delete mid \\n6. delete end\\n7. exit\\n8. print\\n\")\n",
    "    ch = int(input(\"Enter choice: \"))\n",
    "    if ch == 1:\n",
    "        data = int(input(\"data: \"))\n",
    "        l.addfront(data)\n",
    "    elif ch == 2:\n",
    "        data = int(input(\"data: \"))\n",
    "        l.addend(data)\n",
    "    elif ch == 3:\n",
    "        data = int(input(\"data: \"))\n",
    "        pos = int(input(\"position: \"))\n",
    "        l.addmid(data, pos)\n",
    "    elif ch == 4:\n",
    "        l.deletefront()\n",
    "    elif ch == 5:\n",
    "        pos = int(input(\"position: \"))\n",
    "        l.deletemid(pos)\n",
    "    elif ch == 6:\n",
    "        l.deleteend()\n",
    "    elif ch == 8:\n",
    "        l.printi()\n",
    "    elif ch == 7:\n",
    "        break\n"
   ]
  },
  {
   "cell_type": "code",
   "execution_count": 14,
   "id": "a1f06be5-f51c-4056-9c0d-f10d4ec32fea",
   "metadata": {},
   "outputs": [
    {
     "name": "stdout",
     "output_type": "stream",
     "text": [
      "[2.9, 2.9]\n",
      "2.9 2.9\n",
      "8.41\n"
     ]
    }
   ],
   "source": [
    "s='2.9*2.9'\n",
    "op=['+','-','*','/']\n",
    "for i in s:\n",
    "    if i in op:\n",
    "        x=i\n",
    "        s=s.replace(i,' ')\n",
    "n=list(map(float,s.split(\" \")))\n",
    "print(n)\n",
    "print(s)\n",
    "match x:\n",
    "    case '+':print(sum(n))\n",
    "    case '*':print(n[0]*n[1])\n",
    "    case '/':print(n[0]/n[1])\n",
    "    case '**':print(n[0]**n[1])\n",
    "    case '-':print(n[0]-n[1])        "
   ]
  },
  {
   "cell_type": "code",
   "execution_count": null,
   "id": "5e46b901-3f8d-48a5-84ee-3643faebc658",
   "metadata": {},
   "outputs": [],
   "source": []
  }
 ],
 "metadata": {
  "kernelspec": {
   "display_name": "Python 3 (ipykernel)",
   "language": "python",
   "name": "python3"
  },
  "language_info": {
   "codemirror_mode": {
    "name": "ipython",
    "version": 3
   },
   "file_extension": ".py",
   "mimetype": "text/x-python",
   "name": "python",
   "nbconvert_exporter": "python",
   "pygments_lexer": "ipython3",
   "version": "3.11.4"
  }
 },
 "nbformat": 4,
 "nbformat_minor": 5
}
