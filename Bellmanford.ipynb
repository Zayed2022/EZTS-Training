{
 "cells": [
  {
   "cell_type": "markdown",
   "id": "9db5f168-1031-4351-8ad6-ffe218b15760",
   "metadata": {},
   "source": [
    "# BellMan Ford"
   ]
  },
  {
   "cell_type": "markdown",
   "id": "ec2f3613-eb32-489d-9154-6a3e21684ec4",
   "metadata": {},
   "source": [
    "The bellman-Ford algorithm helps to find the shortest distance from the source node to all other nodes. But, we have already learned Dijkstra's algorithm (Dijkstra's algorithm article link) to fulfill the same purpose. Now, the question is how this algorithm is different from Dijkstra's algorithm.\n",
    "\n",
    "While learning Dijkstra's algorithm, we came across the following two situations, where Dijkstra's algorithm failed:\n",
    "\n",
    "If the graph contains negative edges.\n",
    "If the graph has a negative cycle (In this case Dijkstra's algorithm fails to minimize the distance, keeps on running, and goes into an infinite loop. As a result it gives TLE error).\n",
    "Negative Cycle: A cycle is called a negative cycle if the sum of all its weights becomes negative. The following illustration is an example of a negative cycle:\n",
    "\n"
   ]
  },
  {
   "attachments": {
    "b9737003-955c-46d4-8f7b-7e6352361675.png": {
     "image/png": "[encoded data removed]"
    }
   },
   "cell_type": "markdown",
   "id": "2a0b8d6b-1b7c-43a5-be46-2904d7551e0b",
   "metadata": {},
   "source": [
    "![image.png](attachment:b9737003-955c-46d4-8f7b-7e6352361675.png)"
   ]
  },
  {
   "attachments": {
    "eca68914-975b-4d4b-8467-52a0fffa14b6.png": {
     "image/png": "[encoded data removed]"
    }
   },
   "cell_type": "markdown",
   "id": "abe0be3e-28c9-4bb9-8beb-a1a448fa587f",
   "metadata": {},
   "source": [
    "![image.png](attachment:eca68914-975b-4d4b-8467-52a0fffa14b6.png)\r\n"
   ]
  },
  {
   "cell_type": "markdown",
   "id": "b99aef98-22ef-4d0e-9f24-b5b13a4e9f3c",
   "metadata": {},
   "source": [
    "Let’s understand what the relaxation of edges means using an example.\r\n",
    "\r\n",
    "\r\n",
    "Let's consider the above graph with dist[u], dist[v], and wt. Here, wt is the weight of the edge and dist[u] signifies the shortest distance to reach node u found until now. Similarly, dist[v](maybe infinite) signifies the shortest distance to reach node v found until now. If the distance to reach v through u(i.e. dist[u] + wt) is smaller than dist[v], we will update the value of dist[v] with (dist[u] + wt). This process of updating the distance is called the relaxation of edges.\r\n",
    "\r\n",
    "We will apply the above process(i.e. minimizing the distance to reach every node) N-1 times in the Bellman-Ford algorithm.ithm."
   ]
  },
  {
   "attachments": {
    "e5d4097b-76f5-48ef-80cd-5eed1540faec.png": {
     "image/png": "[encoded data removed]"
    }
   },
   "cell_type": "markdown",
   "id": "de3b4d01-6a45-4265-8b28-0a42a546d1c9",
   "metadata": {},
   "source": [
    "![image.png](attachment:e5d4097b-76f5-48ef-80cd-5eed1540faec.png)"
   ]
  },
  {
   "cell_type": "code",
   "execution_count": 2,
   "id": "ddd47a42-ef85-4a40-a1fc-b77b5cb01c51",
   "metadata": {},
   "outputs": [
    {
     "name": "stdout",
     "output_type": "stream",
     "text": [
      "[0, 5, 3, 3, 1, 2]\n"
     ]
    }
   ],
   "source": [
    "def bellmanford(V,edges,S):\n",
    "    d=[float('inf')]*V\n",
    "    d[S] =0\n",
    "    for _ in range(V - 1):\n",
    "        for u,v,wt in edges:\n",
    "            if d[u]!=float('inf') and d[u]+wt<d[v]:\n",
    "                d[v] = d[u] + wt\n",
    "\n",
    "# Check for negative-weight cycles.\n",
    "    for u, v, wt in edges:\n",
    "        if d[u]!=float('inf') and d[u]+wt<d[v]:\n",
    "            return [-1]\n",
    "\n",
    "    return d\n",
    "if __name__ == \"__main__\":\n",
    "    V = 6\n",
    "    S = 0\n",
    "    edges = [\n",
    "        [3, 2, 6],\n",
    "        [5, 3, 1],\n",
    "        [0, 1, 5],\n",
    "        [1, 5, -3],\n",
    "        [1, 2, -2],\n",
    "        [3, 4, -2],\n",
    "        [2, 4, 3]\n",
    "    ]\n",
    "    d=bellmanford(V,edges,S)\n",
    "    #print(\" \".join(map(str,d)))\n",
    "    print(d)"
   ]
  },
  {
   "cell_type": "code",
   "execution_count": 1,
   "id": "7ab7c313-23ec-4aa5-b9ef-15328a26d2ea",
   "metadata": {},
   "outputs": [
    {
     "name": "stdout",
     "output_type": "stream",
     "text": [
      "{'A': 0, 'B': 1, 'C': 3, 'D': 5, 'E': 0, 'F': 3}\n"
     ]
    }
   ],
   "source": [
    "g = [\n",
    "  [0,6,4,5,False,False],\n",
    "  [False,0,False,False,-1,False],\n",
    "  [False,-2,0,False,3,False],\n",
    "  [False,False,-2,0,False,-1],\n",
    "  [False,False,False,False,0,3],\n",
    "  [False,False,False,False,False,0],\n",
    "]\n",
    "nodes = ['A','B','C','D','E','F']\n",
    "node_ind = {nodes[i] :i for i in range(len(nodes))}\n",
    "\n",
    "edg_list = []\n",
    "for i in range(len(g)):\n",
    "  for j in range(len(g[i])):\n",
    "    if g[i][j] != False and g[i][j] !=0:\n",
    "      edg_list.append((nodes[i],nodes[j]))\n",
    "# print(edg_list)\n",
    "\n",
    "d = {node: float('inf') for node in nodes}\n",
    "d['A']=0\n",
    "\n",
    "for i in range(len(g) -1 ):\n",
    "  for u,v in edg_list:\n",
    "    u_ind = node_ind[u]\n",
    "    v_ind = node_ind[v]\n",
    "    nd = d[u] + g[u_ind][v_ind]\n",
    "    if d[v] > nd:\n",
    "      d[v]= nd\n",
    "print(d)"
   ]
  },
  {
   "cell_type": "code",
   "execution_count": null,
   "id": "b68e17f8-8a54-4c9d-be2f-605f42a67940",
   "metadata": {},
   "outputs": [],
   "source": []
  }
 ],
 "metadata": {
  "kernelspec": {
   "display_name": "Python 3 (ipykernel)",
   "language": "python",
   "name": "python3"
  },
  "language_info": {
   "codemirror_mode": {
    "name": "ipython",
    "version": 3
   },
   "file_extension": ".py",
   "mimetype": "text/x-python",
   "name": "python",
   "nbconvert_exporter": "python",
   "pygments_lexer": "ipython3",
   "version": "3.11.4"
  }
 },
 "nbformat": 4,
 "nbformat_minor": 5
}
