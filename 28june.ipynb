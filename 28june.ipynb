{
 "cells": [
  {
   "cell_type": "code",
   "execution_count": 1,
   "id": "a106679b-7042-48b1-80e5-a3084f29ceae",
   "metadata": {},
   "outputs": [
    {
     "name": "stdout",
     "output_type": "stream",
     "text": [
      "Found pattern at index 10\n"
     ]
    }
   ],
   "source": [
    "def KMPSearch(pat, txt):\n",
    "\tM = len(pat)\n",
    "\tN = len(txt)\n",
    "\tlps = [0]*M\n",
    "\tj = 0 # index for pat[]\n",
    "\tcomputeLPSArray(pat, M, lps)\n",
    "\n",
    "\ti = 0 # index for txt[]\n",
    "\twhile (N - i) >= (M - j):\n",
    "\t\tif pat[j] == txt[i]:\n",
    "\t\t\ti += 1\n",
    "\t\t\tj += 1\n",
    "\t\tif j == M:\n",
    "\t\t\tprint(\"Found pattern at index \" + str(i-j))\n",
    "\t\t\tj = lps[j-1]\n",
    "\t\telif i < N and pat[j] != txt[i]:\n",
    "\t\t\tif j != 0:\n",
    "\t\t\t\tj = lps[j-1]\n",
    "\t\t\telse:\n",
    "\t\t\t\ti += 1\n",
    "def computeLPSArray(pat, M, lps):\n",
    "\tlen = 0 # length of the previous longest prefix suffix\n",
    "\n",
    "\tlps[0] = 0 # lps[0] is always 0\n",
    "\ti = 1\n",
    "\n",
    "\twhile i < M:\n",
    "\t\tif pat[i] == pat[len]:\n",
    "\t\t\tlen += 1\n",
    "\t\t\tlps[i] = len\n",
    "\t\t\ti += 1\n",
    "\t\telse:\n",
    "\n",
    "\t\t\tif len != 0:\n",
    "\t\t\t\tlen = lps[len-1]\n",
    "\n",
    "\t\t\telse:\n",
    "\t\t\t\tlps[i] = 0\n",
    "\t\t\t\ti += 1\n",
    "if __name__ == '__main__':\n",
    "\ttxt = \"ABABDABACDABABCABAB\"\n",
    "\tpat = \"ABABCABAB\"\n",
    "\tKMPSearch(pat, txt)\n"
   ]
  },
  {
   "cell_type": "code",
   "execution_count": 5,
   "id": "3fe1ddf7-fb5e-4d94-84b8-16e4d0570e5d",
   "metadata": {},
   "outputs": [
    {
     "name": "stdout",
     "output_type": "stream",
     "text": [
      "move 1 from A to B\n",
      "move 2 from A to B\n",
      "move 1 from C to A\n",
      "move 3 from A to B\n",
      "move 1 from C to A\n",
      "move 2 from C to A\n",
      "move 1 from B to C\n",
      "[7]\n"
     ]
    }
   ],
   "source": [
    "c=[0]\n",
    "def tower(n,frm,aux,to):\n",
    "    if n==0:\n",
    "        return\n",
    "    tower(n-1,frm,aux,to)\n",
    "    c[0]+=1\n",
    "    print(f\"move {n} from {frm} to {to}\")\n",
    "    tower(n-1,aux,to,frm)\n",
    "n=3\n",
    "tower(n,'A','C','B')\n",
    "print(c)"
   ]
  },
  {
   "cell_type": "code",
   "execution_count": null,
   "id": "153c975c-402f-484f-910c-0d27f5e72863",
   "metadata": {},
   "outputs": [],
   "source": []
  }
 ],
 "metadata": {
  "kernelspec": {
   "display_name": "Python 3 (ipykernel)",
   "language": "python",
   "name": "python3"
  },
  "language_info": {
   "codemirror_mode": {
    "name": "ipython",
    "version": 3
   },
   "file_extension": ".py",
   "mimetype": "text/x-python",
   "name": "python",
   "nbconvert_exporter": "python",
   "pygments_lexer": "ipython3",
   "version": "3.11.4"
  }
 },
 "nbformat": 4,
 "nbformat_minor": 5
}
