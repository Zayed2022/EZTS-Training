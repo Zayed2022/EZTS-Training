{
 "cells": [
  {
   "cell_type": "markdown",
   "id": "843aa71e-c9b3-4b9c-9421-dcb99948e138",
   "metadata": {},
   "source": [
    "# N queens"
   ]
  },
  {
   "cell_type": "code",
   "execution_count": 1,
   "id": "e562a15f-b0fa-41bb-be4f-e2c6762284f3",
   "metadata": {},
   "outputs": [
    {
     "name": "stdin",
     "output_type": "stream",
     "text": [
      "Enter the number of queens: 4\n"
     ]
    },
    {
     "name": "stdout",
     "output_type": "stream",
     "text": [
      "----SOLUTION 1 ----\n",
      "X Q X X\n",
      "X X X Q\n",
      "Q X X X\n",
      "X X Q X\n",
      "\n",
      "----SOLUTION 2 ----\n",
      "X X Q X\n",
      "Q X X X\n",
      "X X X Q\n",
      "X Q X X\n",
      "\n",
      "Total solutions = 2\n"
     ]
    }
   ],
   "source": [
    "def nqueens(board, row):\n",
    "    global c\n",
    "    # base case\n",
    "    if row == len(board):\n",
    "        c += 1\n",
    "        printboard(board)\n",
    "        return\n",
    "\n",
    "    # column\n",
    "    for j in range(len(board)):\n",
    "        if issafe(board, row, j):\n",
    "            board[row][j] = 'Q'\n",
    "            nqueens(board, row + 1)\n",
    "            board[row][j] = 'X'\n",
    "\n",
    "\n",
    "def issafe(board, row, col):\n",
    "    # vertical up\n",
    "    for i in range(row - 1, -1, -1):\n",
    "        if board[i][col] == 'Q':\n",
    "            return False\n",
    "\n",
    "    # up left\n",
    "    for i, j in zip(range(row - 1, -1, -1), range(col - 1, -1, -1)):\n",
    "        if board[i][j] == 'Q':\n",
    "            return False\n",
    "\n",
    "    # up right\n",
    "    for i, j in zip(range(row - 1, -1, -1), range(col + 1, len(board))):\n",
    "        if board[i][j] == 'Q':\n",
    "            return False\n",
    "\n",
    "    return True\n",
    "\n",
    "\n",
    "def printboard(board):\n",
    "    global c\n",
    "    print(f\"----SOLUTION {c} ----\")\n",
    "    for row in board:\n",
    "        print(' '.join(row))\n",
    "    print()\n",
    "\n",
    "\n",
    "if __name__ == \"__main__\":\n",
    "    n=int(input(\"Enter the number of queens:\"))\n",
    "    if n >= 4:\n",
    "        c = 0\n",
    "        board = [['X' for _ in range(n)] for _ in range(n)]\n",
    "        nqueens(board, 0)\n",
    "        print(f\"Total solutions = {c}\")\n",
    "    else:\n",
    "        print(\"No solution\")\n"
   ]
  },
  {
   "cell_type": "code",
   "execution_count": 2,
   "id": "96ac92ac-6c13-46d5-8220-b1f540b6c8c6",
   "metadata": {},
   "outputs": [
    {
     "name": "stdout",
     "output_type": "stream",
     "text": [
      "(0, 0)\n",
      "(1, 1)\n",
      "(2, 2)\n",
      "(3, 3)\n",
      "(4, 4)\n"
     ]
    }
   ],
   "source": [
    "for i in zip(range(5),range(5)):\n",
    "    print(i)"
   ]
  },
  {
   "cell_type": "code",
   "execution_count": 4,
   "id": "fbe3fd64-9246-4d74-8227-93faf572f6c6",
   "metadata": {},
   "outputs": [
    {
     "name": "stdout",
     "output_type": "stream",
     "text": [
      "(5, 5)\n",
      "(4, 4)\n",
      "(3, 3)\n",
      "(2, 2)\n",
      "(1, 1)\n"
     ]
    }
   ],
   "source": [
    "for i in zip(range(5,0,-1),range(5,0,-1)):\n",
    "    print(i)\n",
    "    "
   ]
  },
  {
   "cell_type": "code",
   "execution_count": 2,
   "id": "8cff6609-3730-4e68-b831-66e97d5b50b6",
   "metadata": {},
   "outputs": [
    {
     "name": "stdout",
     "output_type": "stream",
     "text": [
      "[['X', 'X', 'X', 'X'], ['X', 'X', 'X', 'X'], ['X', 'X', 'X', 'X'], ['X', 'X', 'X', 'X']]"
     ]
    }
   ],
   "source": [
    "#def nqueens(board,row):\n",
    "\n",
    "\n",
    "board=[['X' for _ in range(4)] for i in range(4)]\n",
    "print(board)"
   ]
  },
  {
   "cell_type": "code",
   "execution_count": null,
   "id": "5e20d19c-5527-4e12-8c7c-230e2bf84099",
   "metadata": {},
   "outputs": [],
   "source": []
  }
 ],
 "metadata": {
  "kernelspec": {
   "display_name": "Python 3 (ipykernel)",
   "language": "python",
   "name": "python3"
  },
  "language_info": {
   "codemirror_mode": {
    "name": "ipython",
    "version": 3
   },
   "file_extension": ".py",
   "mimetype": "text/x-python",
   "name": "python",
   "nbconvert_exporter": "python",
   "pygments_lexer": "ipython3",
   "version": "3.11.4"
  }
 },
 "nbformat": 4,
 "nbformat_minor": 5
}
