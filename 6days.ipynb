{
 "cells": [
  {
   "cell_type": "code",
   "execution_count": 13,
   "id": "a701729a-2988-4d48-a93d-89b8b82578e1",
   "metadata": {},
   "outputs": [
    {
     "name": "stdin",
     "output_type": "stream",
     "text": [
      "Enter the number of players: 3\n",
      "name: zay\n",
      "Sentence: i am batman i\n"
     ]
    },
    {
     "name": "stdout",
     "output_type": "stream",
     "text": [
      "n\n"
     ]
    },
    {
     "name": "stdin",
     "output_type": "stream",
     "text": [
      "name: kar\n",
      "Sentence: i like coffeee\n"
     ]
    },
    {
     "name": "stdout",
     "output_type": "stream",
     "text": [
      "f\n"
     ]
    },
    {
     "name": "stdin",
     "output_type": "stream",
     "text": [
      "name: mani\n",
      "Sentence: i am niggai\n"
     ]
    },
    {
     "name": "stdout",
     "output_type": "stream",
     "text": [
      "g\n",
      "candidate e won with total votes 4\n",
      "[['zay', 'i am batman i'], ['kar', 'i like coffeee'], ['mani', 'i am niggai']]\n",
      "{'a': 3, 'e': 4, 'i': 3}\n"
     ]
    }
   ],
   "source": [
    "from collections import Counter\n",
    "d={}\n",
    "def counter_x(li):\n",
    "    global d\n",
    "    dit=Counter(li[1])\n",
    "    m=0\n",
    "    k=0\n",
    "    for i,j in dit.items():\n",
    "        if j>m and i.lower() in ['a','e','i','o','u']:\n",
    "            m=j\n",
    "            k=i\n",
    "    print(i)\n",
    "    d.update({k:m})\n",
    "def winner():\n",
    "    global d\n",
    "    m=0\n",
    "    id=0\n",
    "    for i,j in d.items():\n",
    "        if j>m:\n",
    "            m=j\n",
    "            id=i\n",
    "    l=list(d.values())\n",
    "    if l.count(d[id])>1:\n",
    "        print(\"Cadidates\",end=\" \")\n",
    "        for i,j in d.items():\n",
    "            if m==j:\n",
    "                print(i,end=\" \")\n",
    "        print(\" have same votes its draw!\")    \n",
    "    else:\n",
    "        print(f\"candidate {id} won with total votes {d[id]}\")\n",
    "        \n",
    "if __name__=='__main__':\n",
    "    \n",
    "    n=int(input(\"Enter the number of players:\"))\n",
    "    l=[]\n",
    "    for i in range(n):\n",
    "        ll=[]\n",
    "        name=input(\"name:\")\n",
    "        sen=input(\"Sentence:\")\n",
    "        ll.append(name)\n",
    "        ll.append(sen)\n",
    "        l.append(ll)\n",
    "        counter_x(ll)\n",
    "    winner()\n",
    "    print(l)\n",
    "    print(d)\n",
    "    "
   ]
  },
  {
   "cell_type": "code",
   "execution_count": 14,
   "id": "f966d923-f17f-4cc0-8d86-a88bd5fbdc0f",
   "metadata": {},
   "outputs": [
    {
     "name": "stdin",
     "output_type": "stream",
     "text": [
      "Enter the number of players:  2\n",
      "Name:  zayed\n",
      "Sentence:  i am batman\n",
      "Name:  karthik\n",
      "Sentence:  i like coffee\n"
     ]
    },
    {
     "name": "stdout",
     "output_type": "stream",
     "text": [
      "Candidates zayed karthik have the same votes, it's a draw!\n",
      "{'zayed': {'a': 3}, 'karthik': {'e': 3}}\n"
     ]
    }
   ],
   "source": [
    "from collections import Counter\n",
    "\n",
    "# Dictionary to store the most frequent vowel and its count for each player\n",
    "d = {}\n",
    "\n",
    "def counter_x(name, sentence):\n",
    "    global d\n",
    "    # Count the frequency of each character in the sentence\n",
    "    dit = Counter(sentence)\n",
    "    m = 0\n",
    "    k = ''\n",
    "    \n",
    "    # Find the most frequent vowel in the sentence\n",
    "    for i, j in dit.items():\n",
    "        if j > m and i.lower() in ['a', 'e', 'i', 'o', 'u']:\n",
    "            m = j\n",
    "            k = i\n",
    "    \n",
    "    # Update the dictionary with the player's name, and the most frequent vowel and its count\n",
    "    d[name] = {k: m}\n",
    "\n",
    "def winner():\n",
    "    global d\n",
    "    m = 0\n",
    "    winner_name = ''\n",
    "    winner_vowel = ''\n",
    "    \n",
    "    # Determine the player with the highest count of any single vowel\n",
    "    for name, vowel_dict in d.items():\n",
    "        for vowel, count in vowel_dict.items():\n",
    "            if count > m:\n",
    "                m = count\n",
    "                winner_name = name\n",
    "                winner_vowel = vowel\n",
    "    \n",
    "    # Check if there is a tie\n",
    "    counts = [list(vowel_dict.values())[0] for vowel_dict in d.values()]\n",
    "    if counts.count(m) > 1:\n",
    "        print(\"Candidates\", end=\" \")\n",
    "        for name, vowel_dict in d.items():\n",
    "            if list(vowel_dict.values())[0] == m:\n",
    "                print(name, end=\" \")\n",
    "        print(\"have the same votes, it's a draw!\")\n",
    "    else:\n",
    "        print(f\"Candidate {winner_name} won with the vowel '{winner_vowel}' having total votes {m}\")\n",
    "\n",
    "if __name__ == '__main__':\n",
    "    n = int(input(\"Enter the number of players: \"))\n",
    "    \n",
    "    for i in range(n):\n",
    "        name = input(\"Name: \")\n",
    "        sentence = input(\"Sentence: \")\n",
    "        counter_x(name, sentence)\n",
    "    \n",
    "    winner()\n",
    "    print(d)\n"
   ]
  },
  {
   "cell_type": "code",
   "execution_count": 16,
   "id": "9cec085e-6a1d-400d-bd7b-468dbae6fa70",
   "metadata": {},
   "outputs": [
    {
     "name": "stdin",
     "output_type": "stream",
     "text": [
      "Enter the number of players:  2\n",
      "Name:  zay\n",
      "Sentence:  i like coffee\n",
      "Name:  karthik\n",
      "Sentence:  i am batman\n"
     ]
    },
    {
     "name": "stdout",
     "output_type": "stream",
     "text": [
      "Candidates zay karthik have the same votes with vowel 'e', it's a draw!\n",
      "{'zay': {'e': 3}, 'karthik': {'a': 3}}\n"
     ]
    }
   ],
   "source": [
    "from collections import Counter\n",
    "\n",
    "# Dictionary to store the most frequent vowel and its count for each player\n",
    "d = {}\n",
    "\n",
    "def counter_x(name, sentence):\n",
    "    global d\n",
    "    # Count the frequency of each character in the sentence\n",
    "    dit = Counter(sentence)\n",
    "    m = 0\n",
    "    k = ''\n",
    "    vowels = ['a', 'e', 'i', 'o', 'u']\n",
    "    \n",
    "    # Dictionary to keep track of vowels and their frequencies\n",
    "    vowel_count = {vowel: 0 for vowel in vowels}\n",
    "    \n",
    "    for i, j in dit.items():\n",
    "        if i.lower() in vowels:\n",
    "            vowel_count[i.lower()] = j\n",
    "    \n",
    "    # Find the most frequent vowel with highest alphabetical precedence in case of tie\n",
    "    for vowel in sorted(vowels, reverse=True):\n",
    "        if vowel_count[vowel] > m:\n",
    "            m = vowel_count[vowel]\n",
    "            k = vowel\n",
    "    \n",
    "    # Update the dictionary with the player's name, and the most frequent vowel and its count\n",
    "    d[name] = {k: m}\n",
    "\n",
    "def winner():\n",
    "    global d\n",
    "    m = 0\n",
    "    winner_name = ''\n",
    "    winner_vowel = ''\n",
    "    \n",
    "    # Determine the player with the highest count of any single vowel\n",
    "    for name, vowel_dict in d.items():\n",
    "        for vowel, count in vowel_dict.items():\n",
    "            if count > m or (count == m and vowel > winner_vowel):\n",
    "                m = count\n",
    "                winner_name = name\n",
    "                winner_vowel = vowel\n",
    "    \n",
    "    # Check if there is a tie\n",
    "    counts = [list(vowel_dict.values())[0] for vowel_dict in d.values()]\n",
    "    if counts.count(m) > 1:\n",
    "        print(\"Candidates\", end=\" \")\n",
    "        for name, vowel_dict in d.items():\n",
    "            if list(vowel_dict.values())[0] == m:\n",
    "                print(name, end=\" \")\n",
    "        print(f\"have the same votes with vowel '{winner_vowel}', it's a draw!\")\n",
    "    else:\n",
    "        print(f\"Candidate {winner_name} won with the vowel '{winner_vowel}' having total votes {m}\")\n",
    "\n",
    "if __name__ == '__main__':\n",
    "    n = int(input(\"Enter the number of players: \"))\n",
    "    \n",
    "    for i in range(n):\n",
    "        name = input(\"Name: \")\n",
    "        sentence = input(\"Sentence: \")\n",
    "        counter_x(name, sentence)\n",
    "    \n",
    "    winner()\n",
    "    print(d)\n"
   ]
  },
  {
   "cell_type": "code",
   "execution_count": 12,
   "id": "03c44819-57b2-4439-9832-45b4f1aaf61d",
   "metadata": {},
   "outputs": [
    {
     "name": "stdout",
     "output_type": "stream",
     "text": [
      "[4, 6, 7]\n",
      "9 [4, 5]\n"
     ]
    }
   ],
   "source": [
    "##given an integer arr task is to find the k continous digs which gives max sum where k is entered by user\n",
    "a=[2,4,3,5,6,3,4,6,7,1,2,5]\n",
    "m=-float('inf')\n",
    "k=3\n",
    "for i in range(len(a)):\n",
    "    if m<sum(a[i:i+k]):\n",
    "        l=a[i:i+k]\n",
    "    m=max(sum(a[i:i+k]),m)\n",
    "print(l)\n",
    "#---------------------------\n",
    "l = [2, 3, 4, 5]#6,3,4,6,7,1,2,5]\n",
    "s=m=0\n",
    "k=2 #input\n",
    "for i in range(0,len(l)-(k-1)):\n",
    "    s=0\n",
    "    for z in range(k):\n",
    "        s+=l[i+z]\n",
    "    if m<s:\n",
    "        m=s\n",
    "        pos=i\n",
    "#use for loop to print index\n",
    "print(m,[l[e] for e in range(pos,pos+k)])\n"
   ]
  },
  {
   "cell_type": "markdown",
   "id": "601e0f82-8cd3-4e7f-a783-3b5087620f38",
   "metadata": {},
   "source": [
    "## Sliding Window"
   ]
  },
  {
   "cell_type": "code",
   "execution_count": 10,
   "id": "a080c380-3ca9-4cd2-8a9f-19a14f2b2dec",
   "metadata": {},
   "outputs": [
    {
     "name": "stdout",
     "output_type": "stream",
     "text": [
      "9 [4, 5]\n"
     ]
    }
   ],
   "source": [
    "##given an integer arr task is to find the k continous digs which gives max sum where k is entered by user\n",
    "l = [2, 3, 4, 5]#, 6, 3, 4, 6, 7, 1, 2, 5]\n",
    "k = 2  # input\n",
    "\n",
    "# Initial sum of the first 'k' elements\n",
    "s = sum(l[:k])#O(k)\n",
    "m = s\n",
    "pos = 0\n",
    "\n",
    "# Slide the window across the list\n",
    "for i in range(1, len(l) - k + 1):#O(N)\n",
    "    s = s - l[i - 1] + l[i + k - 1]\n",
    "    if m < s:\n",
    "        m = s\n",
    "        pos = i\n",
    "\n",
    "# Use a for loop to print the index\n",
    "print(m, [l[e] for e in range(pos, pos + k)])\n",
    "'''The time complexity of this code is O(n) because it iterates through the list once \n",
    "to calculate the initial sum and then slides a window of size 'k' across the list, \n",
    "updating the sum in constant time for each iteration. The space complexity is O(1) because \n",
    "the code only uses a constant amount of extra space regardless of the input size.'''"
   ]
  },
  {
   "cell_type": "code",
   "execution_count": 10,
   "id": "153c84c9-40b9-4115-9020-bf27ebc2773a",
   "metadata": {},
   "outputs": [
    {
     "name": "stdout",
     "output_type": "stream",
     "text": [
      "2\n",
      "2\n"
     ]
    }
   ],
   "source": [
    "#problem 3\n",
    "#return the mim cards pic to rec\n",
    "c=[3,4,2,3,1,4,7,4,4]\n",
    "l=[]\n",
    "for i in range(len(c)):\n",
    "    for j in range(i+1,len(c)):\n",
    "        if c[i]==c[j]:\n",
    "            l.append(j-i+1)\n",
    "print(min(l))\n",
    "'''The time complexity of this solution is O(n^2) because we have two nested loops that iterate over\n",
    "the list of cards. The space complexity is O(n) because we are storing the differences between the indices of matching cards in a list.'''\n",
    "#-----------------------------------\n",
    "c = [3, 4, 2, 3, 1, 4, 7, 4, 4]\n",
    "last_seen = {}\n",
    "min_distance = float('inf')\n",
    "\n",
    "for i, value in enumerate(c):\n",
    "    if value in last_seen:\n",
    "        distance = i - last_seen[value] + 1\n",
    "        min_distance = min(min_distance, distance)\n",
    "    last_seen[value] = i\n",
    "print(min_distance)\n",
    "'''\n",
    "The time complexity of this solution is O(n), where n is the number of elements in the input list c.\n",
    "This is because the algorithmiterates through each element in the list once to calculate the minimum distance.\n",
    "The space complexity is also O(n) because the algorithm uses a dictionary to store the last seen index of each element \n",
    "in the list. The size of this dictionary will grow linearly with the size of the input list.\n",
    "'''\n"
   ]
  },
  {
   "cell_type": "code",
   "execution_count": null,
   "id": "2c1e20c3-39e4-4d18-a74c-3650174f94f3",
   "metadata": {},
   "outputs": [],
   "source": []
  }
 ],
 "metadata": {
  "kernelspec": {
   "display_name": "Python 3 (ipykernel)",
   "language": "python",
   "name": "python3"
  },
  "language_info": {
   "codemirror_mode": {
    "name": "ipython",
    "version": 3
   },
   "file_extension": ".py",
   "mimetype": "text/x-python",
   "name": "python",
   "nbconvert_exporter": "python",
   "pygments_lexer": "ipython3",
   "version": "3.11.4"
  }
 },
 "nbformat": 4,
 "nbformat_minor": 5
}
